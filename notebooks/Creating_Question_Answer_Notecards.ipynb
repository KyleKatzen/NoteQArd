{
 "cells": [
  {
   "cell_type": "code",
   "execution_count": 1,
   "id": "b2c047c9-be54-4096-8db5-accbde07971f",
   "metadata": {
    "tags": []
   },
   "outputs": [
    {
     "data": {
      "text/plain": [
       "True"
      ]
     },
     "execution_count": 1,
     "metadata": {},
     "output_type": "execute_result"
    }
   ],
   "source": [
    "from noteqard import noteqard\n",
    "import dotenv\n",
    "import openai\n",
    "import os\n",
    "dotenv.load_dotenv(\"../.env\")"
   ]
  },
  {
   "cell_type": "code",
   "execution_count": 2,
   "id": "276b21a6-f1c1-41f5-95cd-a9594dbd3356",
   "metadata": {
    "tags": []
   },
   "outputs": [],
   "source": [
    "openai.api_key = os.environ[\"OPENAI_API_KEY\"]"
   ]
  },
  {
   "cell_type": "code",
   "execution_count": 3,
   "id": "a1d1ad8c-1420-499f-ab86-cde4c784505f",
   "metadata": {
    "tags": []
   },
   "outputs": [],
   "source": [
    "george_washington_text = \"\"\"\n",
    "George Washington (February 22, 1732 – December 14, 1799) was an American military officer, statesman, and Founding Father who served as the first president of the United States from 1789 to 1797. Appointed by the Second Continental Congress as commander of the Continental Army in June 1775, Washington led Patriot forces to victory in the American Revolutionary War and then served as president of the Constitutional Convention of 1787, which created and ratified the Constitution of the United States and the American federal government. Washington has been called the \"Father of his Country\" for his manifold leadership in the nation's founding.\n",
    "\"\"\""
   ]
  },
  {
   "cell_type": "code",
   "execution_count": 5,
   "id": "7da77fb5-13f7-4fa5-996a-9508539127d2",
   "metadata": {
    "tags": []
   },
   "outputs": [
    {
     "data": {
      "text/plain": [
       "[{'Q': \"Q: What are the dates of George Washington's life?\",\n",
       "  'A': 'A: February 22, 1732 – December 14, 1799.'},\n",
       " {'Q': \"Q: What were George Washington's roles in American history?\",\n",
       "  'A': 'A: George Washington was an American military officer, statesman, and Founding Father. He served as the first president of the United States, led the Continental Army during the American Revolutionary War, and was president of the Constitutional Convention.'},\n",
       " {'Q': 'Q: When did George Washington serve as the president of the United States?',\n",
       "  'A': 'A: George Washington served as the first president of the United States from 1789 to 1797.'},\n",
       " {'Q': 'Q: What is George Washington known as?',\n",
       "  'A': 'A: George Washington is known as the \"Father of his Country\" for his leadership in the nation\\'s founding.'},\n",
       " {'Q': 'Q: What significant role did George Washington play in the American Revolutionary War?',\n",
       "  'A': 'A: George Washington led the Patriot forces to victory during the American Revolutionary War as the commander of the Continental Army.'},\n",
       " {'Q': 'Q: What did George Washington do at the Constitutional Convention of 1787?',\n",
       "  'A': 'A: George Washington served as the president of the Constitutional Convention of 1787, which created and ratified the Constitution of the United States and established the American federal government.'}]"
      ]
     },
     "execution_count": 5,
     "metadata": {},
     "output_type": "execute_result"
    }
   ],
   "source": [
    "qas = noteqard.text_to_question_answer(george_washington_text)\n",
    "qas"
   ]
  },
  {
   "cell_type": "code",
   "execution_count": 7,
   "id": "14d76b72-6dcf-4ddc-8c45-9478b78f620d",
   "metadata": {
    "tags": []
   },
   "outputs": [],
   "source": [
    "noteqard.export_qa_to_tsv(\"question_answer.tsv\", qas)"
   ]
  },
  {
   "cell_type": "code",
   "execution_count": 7,
   "id": "e9e3bf9d-0671-41de-9c6f-d71c9ef4f73f",
   "metadata": {
    "tags": []
   },
   "outputs": [],
   "source": [
    "import pprint"
   ]
  },
  {
   "cell_type": "code",
   "execution_count": 9,
   "id": "38b26ba0-b934-41fa-904b-5e60416b9d2c",
   "metadata": {},
   "outputs": [
    {
     "name": "stdout",
     "output_type": "stream",
     "text": [
      "[{'A': 'A: February 22, 1732 – December 14, 1799.',\n",
      "  'Q': \"Q: What are the dates of George Washington's life?\"},\n",
      " {'A': 'A: George Washington was an American military officer, statesman, and '\n",
      "       'Founding Father. He served as the first president of the United '\n",
      "       'States, led the Continental Army during the American Revolutionary '\n",
      "       'War, and was president of the Constitutional Convention.',\n",
      "  'Q': \"Q: What were George Washington's roles in American history?\"},\n",
      " {'A': 'A: George Washington served as the first president of the United '\n",
      "       'States from 1789 to 1797.',\n",
      "  'Q': 'Q: When did George Washington serve as the president of the United '\n",
      "       'States?'},\n",
      " {'A': 'A: George Washington is known as the \"Father of his Country\" for his '\n",
      "       \"leadership in the nation's founding.\",\n",
      "  'Q': 'Q: What is George Washington known as?'},\n",
      " {'A': 'A: George Washington led the Patriot forces to victory during the '\n",
      "       'American Revolutionary War as the commander of the Continental Army.',\n",
      "  'Q': 'Q: What significant role did George Washington play in the American '\n",
      "       'Revolutionary War?'},\n",
      " {'A': 'A: George Washington served as the president of the Constitutional '\n",
      "       'Convention of 1787, which created and ratified the Constitution of the '\n",
      "       'United States and established the American federal government.',\n",
      "  'Q': 'Q: What did George Washington do at the Constitutional Convention of '\n",
      "       '1787?'}]\n"
     ]
    }
   ],
   "source": [
    "pprint.pprint(qas)"
   ]
  },
  {
   "cell_type": "code",
   "execution_count": null,
   "id": "43d9ecd6-bf23-4980-b053-d8d8a1b9137d",
   "metadata": {},
   "outputs": [],
   "source": []
  }
 ],
 "metadata": {
  "kernelspec": {
   "display_name": "noteqard",
   "language": "python",
   "name": "noteqard"
  },
  "language_info": {
   "codemirror_mode": {
    "name": "ipython",
    "version": 3
   },
   "file_extension": ".py",
   "mimetype": "text/x-python",
   "name": "python",
   "nbconvert_exporter": "python",
   "pygments_lexer": "ipython3",
   "version": "3.11.4"
  }
 },
 "nbformat": 4,
 "nbformat_minor": 5
}
